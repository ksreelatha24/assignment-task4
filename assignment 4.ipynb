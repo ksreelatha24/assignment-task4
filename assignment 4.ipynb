{
 "cells": [
  {
   "cell_type": "code",
   "execution_count": 57,
   "id": "40a251e3",
   "metadata": {},
   "outputs": [
    {
     "name": "stdout",
     "output_type": "stream",
     "text": [
      "[1, 2, 3, 4, 7, 8, 9]\n"
     ]
    }
   ],
   "source": [
    "#1. Given a list of numbers, write a python program that returns a new list which Has all duplicate elements removed. And is \n",
    "#sorted in  an increasing order.\n",
    " #Ex:\n",
    "#Input:\n",
    "#[2,1,3,4,2,3,3,2,7,9,8,7]\n",
    "#Output:\n",
    "#[1,2,3,4,7,8,9]\n",
    "x=[2,1,3,4,2,3,3,2,7,9,8,7]\n",
    "y=set(x)\n",
    "y\n",
    "z=list(y)\n",
    "z\n",
    "z.sort()\n",
    "print(z)"
   ]
  },
  {
   "cell_type": "code",
   "execution_count": 61,
   "id": "ea94f4b6",
   "metadata": {},
   "outputs": [],
   "source": [
    "#2. Write a Python program where you will iterate over both keys and values in dictionaries\n",
    "x={\"person1\":\"sreelatha\",\"age\":24,\"person2\":\"hari\",\"gender\":\"male\"}"
   ]
  },
  {
   "cell_type": "code",
   "execution_count": 62,
   "id": "f27d6e98",
   "metadata": {},
   "outputs": [
    {
     "data": {
      "text/plain": [
       "dict_values(['sreelatha', 24, 'hari', 'male'])"
      ]
     },
     "execution_count": 62,
     "metadata": {},
     "output_type": "execute_result"
    }
   ],
   "source": [
    "x.values()"
   ]
  },
  {
   "cell_type": "code",
   "execution_count": 63,
   "id": "99e09d3b",
   "metadata": {},
   "outputs": [
    {
     "data": {
      "text/plain": [
       "dict_items([('person1', 'sreelatha'), ('age', 24), ('person2', 'hari'), ('gender', 'male')])"
      ]
     },
     "execution_count": 63,
     "metadata": {},
     "output_type": "execute_result"
    }
   ],
   "source": [
    "x.items()"
   ]
  },
  {
   "cell_type": "code",
   "execution_count": 69,
   "id": "00928548",
   "metadata": {},
   "outputs": [
    {
     "name": "stdout",
     "output_type": "stream",
     "text": [
      "['Gephi', 'Monoj', 'Tarun']\n"
     ]
    }
   ],
   "source": [
    "#3. Write a Python program that takes a dictionary of student names and returns a list of student names in alphabetical order \n",
    "#Ex:\n",
    "#Input:{“Student 1”: \"Tarun\", \"Student 2”: \"Manoj\", \"Student 3”: \"Gephi”}\n",
    "#Output: [“Gephi”,”Manoj”,” Tarun”] \n",
    "x={\"student 1\":\"Tarun\",\"student 2\":\"Monoj\",\"student 3\":\"Gephi\"}\n",
    "y=[]\n",
    "for keys,values in x.items():\n",
    "    y.append(values)\n",
    "    y.sort()\n",
    "print(y)    \n",
    "    \n",
    "    "
   ]
  },
  {
   "cell_type": "code",
   "execution_count": 90,
   "id": "55ebc15a",
   "metadata": {},
   "outputs": [
    {
     "name": "stdout",
     "output_type": "stream",
     "text": [
      "['False', 'True', 'False', 'False', 'True']\n"
     ]
    }
   ],
   "source": [
    "#4. Write a Python which returns a new list of Booleans, from a given number. Iterating through the number one digit at a time,\n",
    "# append True if the digit is 1 and False if it is 0.\n",
    "#Ex:\n",
    "#Input: “01001”\n",
    "#Output: [“False”, “True”, “False”,” False”,” True”]\n",
    "x=\"01001\"\n",
    "y=[]\n",
    "for z in x:\n",
    "    if z==\"1\":\n",
    "        y.append(\"True\")\n",
    "    elif z==\"0\":\n",
    "        y.append(\"False\")\n",
    "print(y)\n",
    "   \n",
    "    "
   ]
  },
  {
   "cell_type": "code",
   "execution_count": 13,
   "id": "fee751aa",
   "metadata": {},
   "outputs": [
    {
     "name": "stdout",
     "output_type": "stream",
     "text": [
      "type the stringsreelatha\n",
      "{'s': 1, 'r': 1, 'e': 2, 'l': 1, 'a': 2, 't': 1, 'h': 1}\n"
     ]
    }
   ],
   "source": [
    "#5.Write a Python program where you will return a dictionary where the keys will be the\n",
    "#character and the values will be the occurrence of the character in the string, and it should for any string inputs (dynamic)\n",
    "x=input(\"type the string\")\n",
    "d={}\n",
    "for i in x:\n",
    "    d.update({i:x.count(i)})\n",
    "print(d)\n"
   ]
  },
  {
   "cell_type": "code",
   "execution_count": 10,
   "id": "ab05dcd3",
   "metadata": {},
   "outputs": [
    {
     "name": "stdout",
     "output_type": "stream",
     "text": [
      "type the person name :sreelatha\n",
      "type the age :24\n",
      "type the person name :hariharan\n",
      "type the age :2\n",
      "type the person name : sainath\n",
      "type the age :30\n",
      "name of the oldest age sainath\n"
     ]
    }
   ],
   "source": [
    "#6. Given a dictionary containing the names and ages of a group of people, return the name of the oldest person\n",
    "#Input: {\"Tmma\": 41, \"Ackes\": 45, \"myna\": 15, \"Benthon\": 29}\n",
    "#Output: “Ackes”\n",
    "x={input(\"type the person name :\"):int(input(\"type the age :\")),input(\"type the person name :\"):int(input(\"type the age :\")),input(\"type the person name : \"):int(input(\"type the age :\"))}\n",
    "y=list(x.values())\n",
    "y.sort()\n",
    "max=y[-1]\n",
    "for y,z in x.items():\n",
    "    if x[y]==max:\n",
    "        print(\"name of the oldest age\",y)\n",
    "\n",
    "    "
   ]
  },
  {
   "cell_type": "code",
   "execution_count": 3,
   "id": "0eb0a1b9",
   "metadata": {},
   "outputs": [
    {
     "name": "stdout",
     "output_type": "stream",
     "text": [
      "person1,enter paper,rock,scissor : paper\n",
      "person2,enter paper,rock,scissor : rock\n",
      "paper beats rock\n"
     ]
    }
   ],
   "source": [
    "#7. Write a Python program to create a Rock, Paper, Scissor game, use two inputs for two players: \n",
    "#Conditions: -Rock beats Scissors, Scissors beats Paper, Paper beats Rock\n",
    "name1=input(\"person1,enter paper,rock,scissor : \")\n",
    "name2=input(\"person2,enter paper,rock,scissor : \")\n",
    "if name1==\"rock\" and name2==\"scissor\":\n",
    "    print(\"rock beats the scissor\")\n",
    "elif name1==\"scissor\" and name2==\"paper\":\n",
    "    print(\"sciccor beats rocks\")\n",
    "elif name1==\"paper\" and name2== \"rock\":\n",
    "    print(\"paper beats rock\")\n",
    "elif name1==\"paper\"and name2==\"paper\" :\n",
    "    print(\"match tie\")\n",
    "elif name1==\"scissor\" and name2==\"scissor\":\n",
    "    print(\"match tie\")\n",
    "elif name1==\"rock\" and name2==\"rock\":\n",
    "    print(\"match tie\")\n",
    "else:\n",
    "    print(\"object is not there\")\n"
   ]
  },
  {
   "cell_type": "code",
   "execution_count": 1,
   "id": "8f87e48c",
   "metadata": {},
   "outputs": [
    {
     "name": "stdout",
     "output_type": "stream",
     "text": [
      "water bottles\n",
      "chips\n"
     ]
    }
   ],
   "source": [
    "#8. Create a program that returns a list of items that you can afford in the store with the money you have in your wallet.\n",
    "# Create a dictionary with items as key and price as values\n",
    "#Ex:\n",
    "#Input: \n",
    "#{“water bottles”: “20”,” chips”:10,” Iphone”;49000“,” towel”:90,” pens”:58,” cake”;400}\n",
    "#Your wallet balance: -50\n",
    "#Output: [“water bottles”, “chips”]\n",
    "money=50\n",
    "x={\"water bottles\":20,\"chips\":10,\"Iphone\":49000,\"towel\":90,\"pens\":58,\"cake\":400}\n",
    "l=[]\n",
    "for y,z in x.items():\n",
    "    if z<money:\n",
    "        l.append(y)\n",
    "        print(y)"
   ]
  },
  {
   "cell_type": "code",
   "execution_count": 27,
   "id": "b452bc6a",
   "metadata": {},
   "outputs": [
    {
     "name": "stdout",
     "output_type": "stream",
     "text": [
      "enter the set1: 1\n",
      "enter the set1: 2\n",
      "enter the set1: 3\n",
      "enter the set1: 4\n",
      "enter the set1: 5\n",
      "enter the set1: 6\n",
      "enter the set1: 7\n",
      "enter the set2: 8\n",
      "enter the set2: 9\n",
      "enter the set2: q\n",
      "enter the set2: w\n",
      "enter the set2: e\n",
      "enter the set2: r\n",
      "enter the set2: t\n",
      "union of set1 and set2:  {'7', '2', 'q', '6', '9', 'w', 'e', 't', '8', '1', '3', 'r', '4', '5'}\n"
     ]
    }
   ],
   "source": [
    "# 9. Write a Python program to create a union of sets\n",
    "x=set()\n",
    "for y in range(7):\n",
    "    r=input(\"enter the set1: \")\n",
    "    x.add(r)\n",
    "z=set()    \n",
    "for y in range(7):\n",
    "    n=input(\"enter the set2: \")\n",
    "    z.add(n)\n",
    "print(\"union of set1 and set2: \",x.union(z))\n",
    "    "
   ]
  },
  {
   "cell_type": "code",
   "execution_count": 38,
   "id": "26b362b5",
   "metadata": {},
   "outputs": [
    {
     "name": "stdout",
     "output_type": "stream",
     "text": [
      "type the set1: 1\n",
      "type the set1: 2\n",
      "type the set1: 3\n",
      "type the set1: 4\n",
      "type the set1: 5\n",
      "type the set1: 6\n",
      "the values present in set or not: 7\n",
      "the value is not present\n"
     ]
    }
   ],
   "source": [
    "# 10. Write a Python program to check if a given value is present in a set or not (Dynamic)\n",
    "x=set()\n",
    "for y in range(6):\n",
    "    r=input(\"type the set1: \")\n",
    "    x.add(r)\n",
    "n=int(input(\"the values present in set or not: \"))\n",
    "if n in x:\n",
    "     print(\"the values present in a set\",x)\n",
    "else:\n",
    "    print(\"the value is not present\")"
   ]
  },
  {
   "cell_type": "code",
   "execution_count": 3,
   "id": "157284ff",
   "metadata": {},
   "outputs": [
    {
     "name": "stdout",
     "output_type": "stream",
     "text": [
      "enter the srt: cat dog dog cat horse dog dog mouse horse dog mouse tiger lion tiger cat mouse snail\n",
      "{'cat': 3, 'dog': 5, 'mouse': 3}\n"
     ]
    }
   ],
   "source": [
    "# 11. Write a Python program to find the occurrences of 3 most common words in a given text. And make it as a dictionaries\n",
    "# Ex:\n",
    "# Input:\n",
    "# ” Cat dog dog cat horse dog dog mouse horse dog mouse tiger lion tiger\n",
    "# cat mouse snail”\n",
    "# Output: (“dog”:5,”cat”:3,” mouse”;3)\n",
    "\n",
    "s1=input(\"enter the srt: \")\n",
    "s2=s1.split()\n",
    "s3=[]\n",
    "dict1={}\n",
    "for i in s2:\n",
    "    if s2.count(i)>2:\n",
    "        if i in dict1:\n",
    "            dict1[i]+=1\n",
    "        else:\n",
    "            dict1[i]=1\n",
    "print(dict1)\n",
    "       "
   ]
  },
  {
   "cell_type": "code",
   "execution_count": 6,
   "id": "207c5323",
   "metadata": {},
   "outputs": [
    {
     "name": "stdout",
     "output_type": "stream",
     "text": [
      "Enter no. of Subjects : 4\n",
      "Enter the Subject : English\n",
      "Enter the Marks : 30\n",
      "Enter the Subject : science\n",
      "Enter the Marks : 50\n",
      "Enter the Subject : social\n",
      "Enter the Marks : 37\n",
      "Enter the Subject : maths\n",
      "Enter the Marks : 40\n",
      "The Progress Report is : {'English': 30, 'science': 50, 'social': 37, 'maths': 40}\n"
     ]
    }
   ],
   "source": [
    "# 12. Write a Python program that accepts name of given subject and mark, and make subjects as keys in dictionaries and marks \n",
    "# as values and print the final dictionary with subjects and marks\n",
    "x=int(input(\"Enter no. of Subjects : \"))\n",
    "report={}\n",
    "for y in range(x):\n",
    "    sub=input(\"Enter the Subject : \")\n",
    "    marks=int(input(\"Enter the Marks : \"))\n",
    "    report.update({sub:marks})\n",
    "print(\"The Progress Report is :\",report)\n",
    "\n"
   ]
  },
  {
   "cell_type": "code",
   "execution_count": null,
   "id": "8e433945",
   "metadata": {},
   "outputs": [],
   "source": []
  }
 ],
 "metadata": {
  "kernelspec": {
   "display_name": "Python 3 (ipykernel)",
   "language": "python",
   "name": "python3"
  },
  "language_info": {
   "codemirror_mode": {
    "name": "ipython",
    "version": 3
   },
   "file_extension": ".py",
   "mimetype": "text/x-python",
   "name": "python",
   "nbconvert_exporter": "python",
   "pygments_lexer": "ipython3",
   "version": "3.9.13"
  }
 },
 "nbformat": 4,
 "nbformat_minor": 5
}
